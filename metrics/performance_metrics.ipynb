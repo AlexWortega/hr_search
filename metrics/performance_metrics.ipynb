{
 "cells": [
  {
   "cell_type": "code",
   "execution_count": 6,
   "id": "60459db8-3634-455b-b40b-706fe329b22d",
   "metadata": {},
   "outputs": [],
   "source": [
    "import pandas as pd\n",
    "from sentence_transformers import SentenceTransformer, util\n",
    "import time\n",
    "import torch"
   ]
  },
  {
   "cell_type": "markdown",
   "id": "a10f38b0-7425-476a-83d2-3a11532b45ba",
   "metadata": {},
   "source": [
    "### скачаем все необходимое"
   ]
  },
  {
   "cell_type": "code",
   "execution_count": 2,
   "id": "376076f7-f8b4-462a-8b03-9646834e40e7",
   "metadata": {},
   "outputs": [
    {
     "name": "stderr",
     "output_type": "stream",
     "text": [
      "No sentence-transformers model found with name /home/zjkarina/.cache/torch/sentence_transformers/AlexWortega_hh_search. Creating a new one with MEAN pooling.\n"
     ]
    },
    {
     "name": "stdout",
     "output_type": "stream",
     "text": [
      "[2023-12-24 11:36:41,150] [INFO] [real_accelerator.py:158:get_accelerator] Setting ds_accelerator to cuda (auto detect)\n"
     ]
    },
    {
     "name": "stderr",
     "output_type": "stream",
     "text": [
      "2023-12-24 11:36:46.155025: I tensorflow/core/platform/cpu_feature_guard.cc:182] This TensorFlow binary is optimized to use available CPU instructions in performance-critical operations.\n",
      "To enable the following instructions: AVX2 FMA, in other operations, rebuild TensorFlow with the appropriate compiler flags.\n",
      "2023-12-24 11:36:47.217904: W tensorflow/compiler/tf2tensorrt/utils/py_utils.cc:38] TF-TRT Warning: Could not find TensorRT\n",
      "Special tokens have been added in the vocabulary, make sure the associated word embeddings are fine-tuned or trained.\n"
     ]
    }
   ],
   "source": [
    "df = pd.read_csv('vacs_hh/resume_train.csv', delimiter=';')\n",
    "model = SentenceTransformer('AlexWortega/hh_search')"
   ]
  },
  {
   "cell_type": "markdown",
   "id": "a55e957b-4d81-42f3-8879-5d83a6168fc7",
   "metadata": {},
   "source": [
    "### замерим время кодирования датасета в 10000 примеров"
   ]
  },
  {
   "cell_type": "code",
   "execution_count": 3,
   "id": "57a4de77-8126-4011-87b0-8cc7d1e8435c",
   "metadata": {},
   "outputs": [],
   "source": [
    "job_descriptions = list(df['position'])\n",
    "start = time.time()\n",
    "# Encode the job descriptions\n",
    "job_embeddings = model.encode(job_descriptions, convert_to_tensor=True)\n",
    "all = time.time() - start"
   ]
  },
  {
   "cell_type": "code",
   "execution_count": 4,
   "id": "3d7ae257-4931-4784-82ad-9c7143c758e0",
   "metadata": {},
   "outputs": [
    {
     "data": {
      "text/plain": [
       "68.85204982757568"
      ]
     },
     "execution_count": 4,
     "metadata": {},
     "output_type": "execute_result"
    }
   ],
   "source": [
    "all"
   ]
  },
  {
   "cell_type": "markdown",
   "id": "2138405f-da93-407b-bd4c-011f311d80bb",
   "metadata": {},
   "source": [
    "### Замерим поиск топ-1 близкого вектора"
   ]
  },
  {
   "cell_type": "code",
   "execution_count": 7,
   "id": "65d35118-937d-47d5-8097-0e00307f942f",
   "metadata": {},
   "outputs": [],
   "source": [
    "start = time.time()\n",
    "query_embedding = model.encode('Надзор за выполнением проектных работ.нтации для разработки проекта, технических условий на инженерное обеспечение проектируемого объекта, разрешения на подключение к источникам энергоснабжения', convert_to_tensor=True).to(model.device)\n",
    "cos_scores = util.cos_sim(query_embedding, job_embeddings)[0]\n",
    "top_results = torch.topk(cos_scores, k=1)\n",
    "all = time.time() - start"
   ]
  },
  {
   "cell_type": "code",
   "execution_count": 8,
   "id": "cf47a4b3-2a9c-4c0b-8cf4-a65f4411801a",
   "metadata": {},
   "outputs": [
    {
     "name": "stdout",
     "output_type": "stream",
     "text": [
      "Начальник отдела обследований и проектирования\n"
     ]
    }
   ],
   "source": [
    "indices = [i.item() for i in top_results.indices]\n",
    "for res in df['position'][indices]:\n",
    "    print(res)"
   ]
  },
  {
   "cell_type": "code",
   "execution_count": 9,
   "id": "dd23f9b6-be27-4717-bd71-07356b353002",
   "metadata": {},
   "outputs": [
    {
     "data": {
      "text/plain": [
       "0.039879560470581055"
      ]
     },
     "execution_count": 9,
     "metadata": {},
     "output_type": "execute_result"
    }
   ],
   "source": [
    "all"
   ]
  },
  {
   "cell_type": "markdown",
   "id": "e214019e-a9fe-44ba-8bbb-1ae2e13bc313",
   "metadata": {},
   "source": [
    "### Замерим поиск топ-5 близкого вектора"
   ]
  },
  {
   "cell_type": "code",
   "execution_count": 10,
   "id": "3e12e994-87e6-4bc0-a402-c936923a8c0a",
   "metadata": {},
   "outputs": [],
   "source": [
    "start = time.time()\n",
    "query_embedding = model.encode('Надзор за выполнением проектных работ.нтации для разработки проекта, технических условий на инженерное обеспечение проектируемого объекта, разрешения на подключение к источникам энергоснабжения', convert_to_tensor=True).to(model.device)\n",
    "cos_scores = util.cos_sim(query_embedding, job_embeddings)[0]\n",
    "top_results = torch.topk(cos_scores, k=5)\n",
    "all = time.time() - start"
   ]
  },
  {
   "cell_type": "code",
   "execution_count": 11,
   "id": "fe779fd2-210c-4f74-a350-1d8f93052756",
   "metadata": {},
   "outputs": [
    {
     "data": {
      "text/plain": [
       "0.023413419723510742"
      ]
     },
     "execution_count": 11,
     "metadata": {},
     "output_type": "execute_result"
    }
   ],
   "source": [
    "all"
   ]
  },
  {
   "cell_type": "code",
   "execution_count": null,
   "id": "463fd266-c704-47a9-b036-cf0113408b7a",
   "metadata": {},
   "outputs": [],
   "source": [
    "indices = [i.item() for i in top_results.indices]\n",
    "for res in df['position'][indices]:\n",
    "    print(res)"
   ]
  }
 ],
 "metadata": {
  "kernelspec": {
   "display_name": "Python 3 (ipykernel)",
   "language": "python",
   "name": "python3"
  },
  "language_info": {
   "codemirror_mode": {
    "name": "ipython",
    "version": 3
   },
   "file_extension": ".py",
   "mimetype": "text/x-python",
   "name": "python",
   "nbconvert_exporter": "python",
   "pygments_lexer": "ipython3",
   "version": "3.8.10"
  }
 },
 "nbformat": 4,
 "nbformat_minor": 5
}
