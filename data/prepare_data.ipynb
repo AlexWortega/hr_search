{
 "cells": [
  {
   "cell_type": "code",
   "execution_count": 9,
   "id": "06d55b96-b165-4e61-941d-35658386f460",
   "metadata": {},
   "outputs": [],
   "source": [
    "import pandas as pd\n",
    "from sklearn.model_selection import train_test_split"
   ]
  },
  {
   "cell_type": "code",
   "execution_count": 3,
   "id": "68ddff97-b336-4a2b-8667-0b1ef0e5573f",
   "metadata": {},
   "outputs": [],
   "source": [
    "df = pd.read_csv('vacs_hh/resume_train.csv', delimiter=';')"
   ]
  },
  {
   "cell_type": "code",
   "execution_count": 6,
   "id": "b3a4e256-23bf-429c-8198-4b9e4c68c266",
   "metadata": {},
   "outputs": [],
   "source": [
    "df = df[['position', 'description']]"
   ]
  },
  {
   "cell_type": "code",
   "execution_count": 10,
   "id": "1ecbc6d7-1421-40a0-9ece-4d5bd35795ec",
   "metadata": {},
   "outputs": [],
   "source": [
    "train_df, val_df = train_test_split(df, test_size=0.1, random_state=42)"
   ]
  },
  {
   "cell_type": "code",
   "execution_count": 17,
   "id": "e8f38935-59c1-4b42-a7a8-6017e4f5ad47",
   "metadata": {},
   "outputs": [],
   "source": [
    "train_df.to_pickle('train.pkl')\n",
    "val_df.to_pickle('val.pkl')"
   ]
  },
  {
   "cell_type": "code",
   "execution_count": null,
   "id": "216397cd-9432-4a00-9b6d-452d500c60bb",
   "metadata": {},
   "outputs": [],
   "source": []
  }
 ],
 "metadata": {
  "kernelspec": {
   "display_name": "Python 3 (ipykernel)",
   "language": "python",
   "name": "python3"
  },
  "language_info": {
   "codemirror_mode": {
    "name": "ipython",
    "version": 3
   },
   "file_extension": ".py",
   "mimetype": "text/x-python",
   "name": "python",
   "nbconvert_exporter": "python",
   "pygments_lexer": "ipython3",
   "version": "3.8.10"
  }
 },
 "nbformat": 4,
 "nbformat_minor": 5
}
